{
 "cells": [
  {
   "cell_type": "markdown",
   "metadata": {},
   "source": [
    "<h1>Evaluations of NNet_Agent</h1> "
   ]
  },
  {
   "cell_type": "code",
   "execution_count": 1,
   "metadata": {
    "pycharm": {
     "name": "#%%\n"
    }
   },
   "outputs": [],
   "source": [
    "import os\n",
    "import sys\n",
    "import numpy as np\n",
    "import glob\n",
    "import csv\n",
    "\n",
    "import sys\n",
    "\n",
    "sys.path.append('..')\n",
    "\n",
    "from matplotlib.colors import ListedColormap\n",
    "from pommerman.agents import SimpleAgent, RandomAgent, PlayerAgent, BaseAgent, NN_Agent\n",
    "from pommerman.configs import ffa_v0_fast_env\n",
    "from pommerman.envs.v0 import Pomme\n",
    "from pommerman.characters import Bomber\n",
    "from pommerman import utility\n",
    "from pommerman import my_utility\n",
    "from pommerman import constants\n",
    "from pommerman.NN.pommerman_neural_net import PommermanNNet\n",
    "\n",
    "import matplotlib.image as mpimg\n",
    "import matplotlib.pyplot as plt\n",
    "from io import BytesIO\n",
    "\n",
    "nn_args = {\n",
    "    'input_channels': 8,\n",
    "    'board_x': constants.BOARD_SIZE_ONE_VS_ONE,\n",
    "    'board_y': constants.BOARD_SIZE_ONE_VS_ONE,\n",
    "}\n",
    "\n",
    "def visual_matrix(mat, ax, cmap=ListedColormap(['w'])):\n",
    "    ax.matshow(mat, cmap=cmap)\n",
    "    for i in range(mat.shape[0]):\n",
    "        for j in range(mat.shape[1]):\n",
    "            c = mat[j, i]\n",
    "            ax.text(i, j, str(c), va='center', ha='center')\n",
    "            ax.get_xaxis().set_visible(False)\n",
    "            ax.get_yaxis().set_visible(False)"
   ]
  },
  {
   "cell_type": "markdown",
   "metadata": {
    "pycharm": {
     "name": "#%% md\n"
    }
   },
   "source": [
    "<h2>NNet_Agent</h2>\n",
    "\n",
    "<h3>Overview:</h3>\n",
    "\n",
    "<h4>NNet_Agent</h4>\n",
    "\n",
    "* performs a MCTS at each action.\n",
    "* selection (if all children available): using ucb $Qsa[(s, a)] + C * Ps[s][a] * math.sqrt(Ns[s]) / (1 + Nsa[(s, a)])$\n",
    "* expansion (if not all children available): expand random unseen child. One expansion step expands 'my' and 'opponent' action.\n",
    "* rollout: - <b>IF</b> node is terminal: get reward and backprobagate. <b>ELSE</b>: evaluate expanded node by nnet. Backprobagate Value from NNet.\n",
    "* backprobagation: backprobagate rewards for 'me' and 'opponent' not the same. 'my' rewards update only 'my' Qsa, 'opponent' rewards update only 'opponent' Qsa.\n",
    "* get action probability: return normalized distribution over $Nsa[(s, a)]$ (greedy: return maximum of $Nsa[(s, a)]$)\n",
    "\n",
    "<h4>Learning process</h4>\n",
    "\n",
    "* Self play\n",
    "* Collect for each agent and each action: action-probs, canonical board state, reward (+rotated and mirrored)\n",
    "* add to train examples\n",
    "* start training the network\n",
    "* evaluate network by playing old vs new network\n",
    "* update if new nnet is better\n",
    "\n",
    "<h4>Canonical board presentation:</h4>"
   ]
  },
  {
   "cell_type": "code",
   "execution_count": 2,
   "metadata": {
    "pycharm": {
     "name": "#%%\n"
    }
   },
   "outputs": [
    {
     "data": {
      "image/png": "[encoded data removed]",
      "text/plain": [
       "<Figure size 432x288 with 1 Axes>"
      ]
     },
     "metadata": {
      "needs_background": "light"
     },
     "output_type": "display_data"
    }
   ],
   "source": [
    "# Passage = 0, Rigid = 1, Wood = 2, Bomb = 3, Flames = 4\n",
    "# ExtraBomb = 6, IncrRange = 7, Kick = 8, Agent0 = 10, Agent1 = 11\n",
    "game_type = constants.GameType(4)\n",
    "\n",
    "board = [[ 0,  0,  2,  1,  1,  1],\n",
    "         [ 0,  0, 10,  0,  0,  0],\n",
    "         [ 2,  0,  0,  1,  3,  1],\n",
    "         [ 1,  0,  1,  0,  0,  1],\n",
    "         [ 1,  0,  0,  3,  0,  1],\n",
    "         [ 1, 11,  1,  1,  1,  0]]\n",
    "bomb_info = [(0, 5, 2, None), (1, 3, 2, None)]\n",
    "\n",
    "game_state = my_utility.get_gamestate(board, bomb_info)\n",
    "game_data = my_utility.get_gamedata(game_state, game_type)\n",
    "\n",
    "data = BytesIO()\n",
    "my_utility.get_texture(data, game_data, None)\n",
    "image = mpimg.imread(data)\n",
    "\n",
    "plt.axis('off')\n",
    "imgplot = plt.imshow(image)"
   ]
  },
  {
   "cell_type": "markdown",
   "metadata": {},
   "source": [
    "Numpy-Array bit coded:\n",
    "* Bit 1: Rigid\n",
    "* Bit 2: Wood\n",
    "* Bit 3: Item\n",
    "* Bit 4: Me\n",
    "* Bit 5: Opponent\n",
    "* Bit 6-9: Bomb life\n",
    "* Bit 10-12: Bomb strength\n",
    "* Bit 13-14: Flame life"
   ]
  },
  {
   "cell_type": "code",
   "execution_count": null,
   "metadata": {},
   "outputs": [],
   "source": [
    "c_board_str_1, c_board_1 = NN_Agent.get_canonical_board_str_from_data(game_data, 0)\n",
    "c_board_str_2, c_board_2 = NN_Agent.get_canonical_board_str_from_data(game_data, 1)\n",
    "\n",
    "fig, axs = plt.subplots(1, 2, figsize=(10,5))\n",
    "titles = ['Presentation for agent 1:', 'Presentation for agent 2:']\n",
    "axes = [axs[0], axs[1]]\n",
    "mat = [c_board_1, c_board_2]\n",
    "for i in range(len(mat)):\n",
    "    axes[i].set_title(titles[i])\n",
    "    visual_matrix(mat[i], axes[i])"
   ]
  },
  {
   "cell_type": "markdown",
   "metadata": {},
   "source": [
    "<h4>NNet-Input</h4>\n",
    "\n",
    "Split canonical board into 8 channels:\n",
    "* Rigid - layer\n",
    "* Wood - layer\n",
    "* Item - layer\n",
    "* Me - layer\n",
    "* Opponent - layer\n",
    "* Bomb life - layer\n",
    "* Bomb strength - layer\n",
    "* Flame life - layer"
   ]
  },
  {
   "cell_type": "code",
   "execution_count": null,
   "metadata": {
    "scrolled": false
   },
   "outputs": [],
   "source": [
    "_, c_board = NN_Agent.get_canonical_board_str_from_data(game_data, 0)\n",
    "\n",
    "nnet = PommermanNNet(**nn_args)\n",
    "nn_input = nnet.get_nn_input(c_board)\n",
    "\n",
    "fig, axs = plt.subplots(2, 4, figsize=(15,8))\n",
    "titles = ['Rigid - layer', 'Wood - layer', 'Item - layer', 'Me - layer', 'Opponent - layer', 'Bomb life - layer', 'Bomb strength - layer', 'Flame life - layer']\n",
    "axes = [axs[0,0], axs[0,1], axs[0,2], axs[0,3], axs[1,0], axs[1,1], axs[1,2], axs[1,3]]\n",
    "for i in range(nn_input.shape[0]):\n",
    "    axes[i].set_title(titles[i])\n",
    "    visual_matrix(nn_input[i], axes[i])"
   ]
  },
  {
   "cell_type": "markdown",
   "metadata": {},
   "source": [
    "<h4>NNet-Architecture</h4>\n",
    "\n",
    "* Conv2d (channels=512, kernel=3, stride=1, padding=1)\n",
    "* BatchNorm2d (channels=512)\n",
    "* Relu\n",
    "* Conv2d (channels=512, kernel=3, stride=1, padding=1)\n",
    "* BatchNorm2d (channels=512)\n",
    "* Relu\n",
    "* Conv2d (channels=512, kernel=3, stride=1)\n",
    "* BatchNorm2d (channels=512)\n",
    "* Relu\n",
    "* Conv2d (channels=512, kernel=3, stride=1)\n",
    "* BatchNorm2d (channels=512)\n",
    "* Relu\n",
    "\n",
    "\n",
    "* View to 1d\n",
    "\n",
    "\n",
    "* Linear (size=1024)\n",
    "* BatchNorm1d\n",
    "* Relu\n",
    "* Dropout (p=0.3)\n",
    "* Linear (size=512)\n",
    "* BatchNorm1d\n",
    "* Relu\n",
    "* Dropout (p=0.3)\n",
    "\n",
    "\n",
    "* Conv2d (channels=512, kernel=3, stride=1, padding=1)\n",
    "* BatchNorm2d (channels=512)\n",
    "\n",
    "\n",
    "* pi: Linear(size=action_size)\n",
    "* v: Linear(size=1)"
   ]
  },
  {
   "cell_type": "markdown",
   "metadata": {},
   "source": [
    "<h4>Training</h4>\n",
    "\n",
    "Loss function:\n",
    "\n",
    "$L = \\sum_t (v_{\\theta}(s_t) - z_t)^2 - \\pi_t log(p_{\\theta}(s_t))$\n",
    "\n",
    "<h4>Results</h4>"
   ]
  },
  {
   "cell_type": "code",
   "execution_count": null,
   "metadata": {},
   "outputs": [],
   "source": [
    "model_path = 'C:\\\\tmp\\\\Model\\\\analyse_1'\n",
    "\n",
    "def read_loss_file(path):\n",
    "    loss_pi = []\n",
    "    loss_vi = []\n",
    "    \n",
    "    nnet_id = 1\n",
    "    loss_file = os.path.join(path, f'nnet_{nnet_id}_loss.csv')\n",
    "    while (os.path.exists(loss_file)):\n",
    "        with open(loss_file, newline='') as csvfile:\n",
    "            spamreader = csv.reader(csvfile, delimiter=';', quotechar='|')\n",
    "            for row in spamreader:\n",
    "                if len(row) == 3:\n",
    "                    loss_pi.append(float(row[1]))\n",
    "                    loss_vi.append(float(row[2]))\n",
    "        nnet_id += 1\n",
    "        loss_file = os.path.join(path, f'nnet_{nnet_id}_loss.csv')\n",
    "    return np.array(loss_pi), np.array(loss_vi)\n",
    "\n",
    "loss_pi, loss_vi = read_loss_file(model_path)\n",
    "\n",
    "plt.plot(loss_pi)\n",
    "plt.title('loss policy')\n",
    "plt.xlabel('Epochs')\n",
    "plt.ylabel('loss') \n",
    "plt.show()\n",
    "\n",
    "plt.plot(loss_vi)\n",
    "plt.title('loss value')\n",
    "plt.xlabel('Epochs')\n",
    "plt.ylabel('loss') \n",
    "plt.show()"
   ]
  },
  {
   "cell_type": "code",
   "execution_count": null,
   "metadata": {},
   "outputs": [],
   "source": [
    "def get_nnet_checkpoints(path):\n",
    "    nnets = []\n",
    "    nnet_id = 1\n",
    "    nnet_path = os.path.join(path, f'nnet_{nnet_id}.pth.tar')\n",
    "    while (os.path.exists(nnet_path)):\n",
    "        nnets.append(nnet_path)\n",
    "        nnet_id += 1\n",
    "        nnet_path = os.path.join(path, f'nnet_{nnet_id}.pth.tar')\n",
    "    return nnets\n",
    "\n",
    "def get_board_predictions(game_data, nnet, agent_id):\n",
    "    _, c_board = NN_Agent.get_canonical_board_str_from_data(game_data, agent_id)\n",
    "    pos = game_data.agents[agent_id].position\n",
    "    \n",
    "    pos = []\n",
    "    ps = []\n",
    "    vs = []\n",
    "    c_board[pos] = 0\n",
    "    \n",
    "    for row in range(c_board.shape[0]):\n",
    "        for col in range(c_board.shape[1]):\n",
    "            if c_board[row, col] == 0:\n",
    "                c_board[row, col] = 8 * (1 + agent_id)\n",
    "                nn_input = nnet.get_nn_input(c_board)\n",
    "                p, v = nnet.predict(nn_input)\n",
    "                pos.append((row, col))\n",
    "                ps.append(p)\n",
    "                vs.append(v)\n",
    "                c_board[row, col] = 0\n",
    "\n",
    "    return pos, np.vstack(ps), np.vstack(vs)\n",
    "\n",
    "def calc_mean_entropy(probs):\n",
    "    if len(probs.shape) == 1:\n",
    "        return - np.sum(probs * np.log(probs))\n",
    "    else:\n",
    "        return - np.sum(probs * np.log(probs)) / len(probs)\n",
    "    \n",
    "\n",
    "epochs = 10\n",
    "mean_entropy = []\n",
    "mean_value_size = []\n",
    "\n",
    "nnet_checkpoints = [None]\n",
    "nnet_checkpoints.extend(get_nnet_checkpoints(model_path))\n",
    "for nnet_cp in nnet_checkpoints:\n",
    "    nnet = PommermanNNet(**nn_args)\n",
    "    \n",
    "    if nnet_cp:\n",
    "        head, tail = os.path.split(nnet_cp)\n",
    "        nnet.load_checkpoint(head, tail)\n",
    "\n",
    "    pos, ps, vs = get_board_predictions(game_data, nnet, 0)\n",
    "    mean_entropy.append(calc_mean_entropy(ps))\n",
    "    mean_value_size.append(vs.mean())\n",
    "    \n",
    "x_axis = np.array(list(range(len(mean_entropy)))) * epochs\n",
    "plt.title('NNet Entropy')\n",
    "plt.xlabel('Epochs')\n",
    "plt.ylabel('Entropy') \n",
    "plt.plot(x_axis, mean_entropy)\n",
    "plt.show()"
   ]
  },
  {
   "cell_type": "markdown",
   "metadata": {},
   "source": [
    "<h5>Board values</h5>"
   ]
  },
  {
   "cell_type": "code",
   "execution_count": null,
   "metadata": {},
   "outputs": [],
   "source": []
  }
 ],
 "metadata": {
  "kernelspec": {
   "display_name": "Python 3",
   "language": "python",
   "name": "python3"
  },
  "language_info": {
   "codemirror_mode": {
    "name": "ipython",
    "version": 3
   },
   "file_extension": ".py",
   "mimetype": "text/x-python",
   "name": "python",
   "nbconvert_exporter": "python",
   "pygments_lexer": "ipython3",
   "version": "3.7.7"
  }
 },
 "nbformat": 4,
 "nbformat_minor": 2
}
